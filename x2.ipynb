{
 "cells": [
  {
   "cell_type": "markdown",
   "metadata": {},
   "source": [
    "# Double Pendulum Trajectory Forecasting using RNN \n",
    "Omkar Thawakar , SGGSIE&T Nanded"
   ]
  },
  {
   "cell_type": "code",
   "execution_count": 11,
   "metadata": {},
   "outputs": [
    {
     "data": {
      "text/plain": [
       "'3.6.3 |Anaconda custom (64-bit)| (default, Oct  6 2017, 12:04:38) \\n[GCC 4.2.1 Compatible Clang 4.0.1 (tags/RELEASE_401/final)]'"
      ]
     },
     "execution_count": 11,
     "metadata": {},
     "output_type": "execute_result"
    }
   ],
   "source": [
    "#What are we working with?\n",
    "import sys\n",
    "sys.version"
   ]
  },
  {
   "cell_type": "code",
   "execution_count": 12,
   "metadata": {
    "collapsed": true
   },
   "outputs": [],
   "source": [
    "#Import Libraries\n",
    "import tensorflow as tf\n",
    "import pandas as pd\n",
    "import numpy as np\n",
    "import os\n",
    "import matplotlib\n",
    "import matplotlib.pyplot as plt\n",
    "import random\n",
    "%matplotlib inline\n",
    "import tensorflow as tf\n",
    "import shutil\n",
    "import tensorflow.contrib.learn as tflearn\n",
    "import tensorflow.contrib.layers as tflayers\n",
    "from tensorflow.contrib.learn.python.learn import learn_runner\n",
    "import tensorflow.contrib.metrics as metrics\n",
    "import tensorflow.contrib.rnn as rnn\n",
    "\n",
    "from numpy import sin, cos\n",
    "import numpy as np\n",
    "import matplotlib.pyplot as plt\n",
    "import scipy.integrate as integrate\n",
    "import matplotlib.animation as animation\n",
    "import random\n"
   ]
  },
  {
   "cell_type": "code",
   "execution_count": 13,
   "metadata": {},
   "outputs": [
    {
     "data": {
      "text/plain": [
       "'1.4.1'"
      ]
     },
     "execution_count": 13,
     "metadata": {},
     "output_type": "execute_result"
    }
   ],
   "source": [
    "#TF Version\n",
    "tf.__version__\n",
    "\n"
   ]
  },
  {
   "cell_type": "code",
   "execution_count": 14,
   "metadata": {},
   "outputs": [
    {
     "data": {
      "image/png": "[encoded data removed]",
      "text/plain": [
       "<matplotlib.figure.Figure at 0x1a1cca9160>"
      ]
     },
     "metadata": {},
     "output_type": "display_data"
    }
   ],
   "source": [
    "\n",
    "# for each experiment value of l1,l2,m1,m2 and th1,th2,w1,w2 are same so explicitely add these features after training.\n",
    "\n",
    "G = 9.8  # acceleration due to gravity, in m/s^2\n",
    "L1 = 1.0  # length of pendulum 1 in m\n",
    "L2 = 1.0  # length of pendulum 2 in m\n",
    "M1 = 1.0  # mass of pendulum 1 in kg\n",
    "M2 = 1.0  # mass of pendulum 2 in kg\n",
    "\n",
    "\n",
    "def derivs(state, t):\n",
    "\n",
    "    dydx = np.zeros_like(state)\n",
    "    dydx[0] = state[1]\n",
    "\n",
    "    del_ = state[2] - state[0]\n",
    "    den1 = (M1 + M2)*L1 - M2*L1*cos(del_)*cos(del_)\n",
    "    dydx[1] = (M2*L1*state[1]*state[1]*sin(del_)*cos(del_) +\n",
    "               M2*G*sin(state[2])*cos(del_) +\n",
    "               M2*L2*state[3]*state[3]*sin(del_) -\n",
    "               (M1 + M2)*G*sin(state[0]))/den1\n",
    "\n",
    "    dydx[2] = state[3]\n",
    "\n",
    "    den2 = (L2/L1)*den1\n",
    "    dydx[3] = (-M2*L2*state[3]*state[3]*sin(del_)*cos(del_) +\n",
    "               (M1 + M2)*G*sin(state[0])*cos(del_) -\n",
    "               (M1 + M2)*L1*state[1]*state[1]*sin(del_) -\n",
    "               (M1 + M2)*G*sin(state[2]))/den2\n",
    "\n",
    "    return dydx\n",
    "\n",
    "# create a time array from 0..100 sampled at 0.05 second steps\n",
    "dt = 0.1\n",
    "t = np.arange(0.0, 100, dt)\n",
    "\n",
    "# th1 and th2 are the initial angles (degrees)\n",
    "# w10 and w20 are the initial angular velocities (degrees per second)\n",
    "\n",
    "th1 = 120.0\n",
    "w1 = 0.0\n",
    "th2 = 0.0\n",
    "w2 = 0.0\n",
    "\n",
    "# initial state\n",
    "state = np.radians([th1, w1, th2, w2])\n",
    "\n",
    "# integrate your ODE using scipy.integrate.\n",
    "y = integrate.odeint(derivs, state, t)\n",
    "\n",
    "x1 = L1*sin(y[:, 0])\n",
    "y1 = -L1*cos(y[:, 0])\n",
    "\n",
    "#print(\"x1 : \",x1)\n",
    "#print(\"y1 : \",y1)\n",
    "\n",
    "x2 = L2*sin(y[:, 2]) + x1\n",
    "y2 = -L2*cos(y[:, 2]) + y1\n",
    "\n",
    "#print(\"x2 : \",x2)\n",
    "#print(\"y2 : \",y2)\n",
    "\n",
    "fig = plt.figure()\n",
    "ax = fig.add_subplot(111, autoscale_on=False, xlim=(-2, 2), ylim=(-2, 2))\n",
    "ax.grid()\n",
    "\n",
    "line, = ax.plot([], [], 'o-', lw=2)\n",
    "time_template = 'time = %.1fs'\n",
    "time_text = ax.text(0.05, 0.9, '', transform=ax.transAxes)\n",
    "\n",
    "\n",
    "def init():\n",
    "    line.set_data([], [])\n",
    "    time_text.set_text('')\n",
    "    return line, time_text\n",
    "\n",
    "\n",
    "def animate(i):\n",
    "    thisx = [0, x1[i], x2[i]]\n",
    "    thisy = [0, y1[i], y2[i]]\n",
    "\n",
    "    line.set_data(thisx, thisy)\n",
    "    time_text.set_text(time_template % (i*dt))\n",
    "    return line, time_text\n",
    "\n",
    "ani = animation.FuncAnimation(fig, animate, np.arange(1, len(y)),interval=25, blit=True, init_func=init)\n",
    "\n"
   ]
  },
  {
   "cell_type": "markdown",
   "metadata": {},
   "source": [
    "#### Generate some data"
   ]
  },
  {
   "cell_type": "code",
   "execution_count": 15,
   "metadata": {
    "scrolled": false
   },
   "outputs": [
    {
     "name": "stdout",
     "output_type": "stream",
     "text": [
      "length of test data :  1000\n",
      "(1000, 1)\n",
      "length of test data :  912\n",
      "(912, 1)\n"
     ]
    },
    {
     "name": "stderr",
     "output_type": "stream",
     "text": [
      "/Users/omkarchakradharthawakar/anaconda3/lib/python3.6/site-packages/ipykernel_launcher.py:29: DeprecationWarning: in the future out of bounds indices will raise an error instead of being ignored by `numpy.delete`.\n"
     ]
    },
    {
     "data": {
      "image/png": "[encoded data removed]",
      "text/plain": [
       "<matplotlib.figure.Figure at 0x1a17c4e1d0>"
      ]
     },
     "metadata": {},
     "output_type": "display_data"
    }
   ],
   "source": [
    "random.seed(111)\n",
    "#ts.head(10)\n",
    "\n",
    "f = open(\"data/x2.txt\" , \"r\")\n",
    "t = open(\"data/time_slots.txt\" , \"r\")\n",
    "array1 = []\n",
    "array2 = []\n",
    "\n",
    "for line in f.read().split('\\n') :\n",
    "  array1.append(line )\n",
    "for line in t.read().split('\\n') :\n",
    "  array2.append(line )\n",
    "f.close()\n",
    "t.close()\n",
    "array1.pop()\n",
    "array2.pop()\n",
    "data = []\n",
    "\n",
    "for i in range(len(array1)):\n",
    "    data.append([array1[i]])\n",
    "test = np.array(data)\n",
    "mylist = test.astype(np.float)\n",
    "\n",
    "print(\"length of test data : \",len(mylist))\n",
    "print(mylist.shape)\n",
    "mylist.reshape(1,-1)\n",
    "#print(mylist)\n",
    "\n",
    "ts = np.delete(mylist,[i for i in range(912,1001)],0)\n",
    "\n",
    "print(\"length of test data : \",len(ts))\n",
    "print(ts.shape)\n",
    "ts.reshape(1,-1)\n",
    "#print(ts)\n",
    "\n",
    "plt.plot(ts,c='b')\n",
    "plt.title('x2 >>>')\n",
    "plt.show()\n"
   ]
  },
  {
   "cell_type": "markdown",
   "metadata": {},
   "source": [
    "#### Convert data into array that can be broken up into training \"batches\" that we will feed into our RNN model.  Note the shape of the arrays. "
   ]
  },
  {
   "cell_type": "code",
   "execution_count": 16,
   "metadata": {
    "scrolled": false
   },
   "outputs": [
    {
     "name": "stdout",
     "output_type": "stream",
     "text": [
      "x_batches shape :  (9, 100, 1)\n",
      "y_batches shape :  (9, 100, 1)\n"
     ]
    }
   ],
   "source": [
    "TS = np.array(ts)\n",
    "num_periods = 100\n",
    "f_horizon = 1  #forecast horizon, one period into the future\n",
    "\n",
    "x_data = TS[:(len(TS)-(len(TS) % num_periods))]\n",
    "#print(len(x_data))\n",
    "#print(\"x_data : \",x_data)\n",
    "x_batches = x_data.reshape(-1, 100, 1)\n",
    "\n",
    "#print (len(x_batches))\n",
    "print (\"x_batches shape : \",x_batches.shape)\n",
    "#print (x_batches[0:1])\n",
    "\n",
    "y_data = TS[1:(len(TS)-(len(TS) % num_periods))+f_horizon]\n",
    "#print(y_data.shape)\n",
    "y_batches = y_data.reshape(-1, 100, 1)\n",
    "\n",
    "\n",
    "#print (\"y_batches : \",y_batches[0:1])\n",
    "print (\"y_batches shape : \",y_batches.shape)"
   ]
  },
  {
   "cell_type": "markdown",
   "metadata": {},
   "source": [
    "#### Pull out our test data"
   ]
  },
  {
   "cell_type": "code",
   "execution_count": 17,
   "metadata": {},
   "outputs": [
    {
     "name": "stdout",
     "output_type": "stream",
     "text": [
      "(1, 100, 1)\n",
      "1\n",
      "(1, 100, 1)\n",
      "1\n"
     ]
    }
   ],
   "source": [
    "def test_data(series,forecast,num_periods):\n",
    "    test_x_setup = TS[-(num_periods + forecast):]\n",
    "    testX = test_x_setup[:num_periods].reshape(-1, 100, 1)\n",
    "    testY = TS[-(num_periods):].reshape(-1, 100, 1)\n",
    "    return testX,testY\n",
    "\n",
    "X_test, Y_test = test_data(TS,f_horizon,num_periods )\n",
    "print (X_test.shape)\n",
    "print(len(X_test))\n",
    "#print (X_test)\n",
    "\n",
    "print (Y_test.shape)\n",
    "print(len(Y_test))\n",
    "#print (Y_test)"
   ]
  },
  {
   "cell_type": "code",
   "execution_count": 18,
   "metadata": {},
   "outputs": [
    {
     "name": "stdout",
     "output_type": "stream",
     "text": [
      "Tensor(\"Placeholder:0\", shape=(?, 100, 1), dtype=float32)\n"
     ]
    }
   ],
   "source": [
    "tf.reset_default_graph()   #We didn't have any previous graph objects running, but this would reset the graphs\n",
    "\n",
    "num_periods = 100      #number of periods per vector we are using to predict one period ahead\n",
    "inputs = 1            #number of vectors submitted\n",
    "hidden = 100          #number of neurons we will recursively work through, can be changed to improve accuracy\n",
    "output = 1            #number of output vectors\n",
    "\n",
    "X = tf.placeholder(tf.float32, [None, num_periods, inputs])   #create variable objects\n",
    "y = tf.placeholder(tf.float32, [None, num_periods, output])\n",
    "\n",
    "print(X)\n",
    "\n",
    "\n",
    "basic_cell = tf.contrib.rnn.BasicRNNCell(num_units=hidden, activation=tf.nn.relu)   #create our RNN object\n",
    "rnn_output, states = tf.nn.dynamic_rnn(basic_cell, X, dtype=tf.float32)               #choose dynamic over static\n",
    "\n",
    "learning_rate = 0.001   #small learning rate so we don't overshoot the minimum\n",
    "\n",
    "stacked_rnn_output = tf.reshape(rnn_output, [-1, hidden])           #change the form into a tensor\n",
    "stacked_outputs = tf.layers.dense(stacked_rnn_output, output)        #specify the type of layer (dense)\n",
    "outputs = tf.reshape(stacked_outputs, [-1, num_periods, output])          #shape of results\n",
    " \n",
    "loss = tf.reduce_sum(tf.square(outputs - y))    #define the cost function which evaluates the quality of our model\n",
    "optimizer = tf.train.AdamOptimizer(learning_rate=learning_rate)          #advanced gradient descent method \n",
    "training_op = optimizer.minimize(loss)          #train the result of the application of the cost_function                                 \n",
    "\n",
    "init = tf.global_variables_initializer()           #initialize all the variables"
   ]
  },
  {
   "cell_type": "code",
   "execution_count": 19,
   "metadata": {},
   "outputs": [
    {
     "name": "stdout",
     "output_type": "stream",
     "text": [
      "None\n"
     ]
    }
   ],
   "source": [
    "with tf.Session() as sess:\n",
    "    writer = tf.summary.FileWriter(\"outputs_x\", sess.graph)\n",
    "    print(sess.run(init))\n",
    "    writer.close()"
   ]
  },
  {
   "cell_type": "code",
   "execution_count": 20,
   "metadata": {},
   "outputs": [
    {
     "name": "stdout",
     "output_type": "stream",
     "text": [
      "0 \tMSE: 581.299\n",
      "100 \tMSE: 21.9139\n",
      "200 \tMSE: 12.3388\n",
      "300 \tMSE: 8.77889\n",
      "400 \tMSE: 6.77277\n",
      "500 \tMSE: 5.22588\n",
      "600 \tMSE: 4.9033\n",
      "700 \tMSE: 6.821\n",
      "800 \tMSE: 3.76563\n",
      "900 \tMSE: 2.98707\n",
      "1000 \tMSE: 2.75795\n",
      "1100 \tMSE: 2.17701\n",
      "1200 \tMSE: 2.0295\n",
      "1300 \tMSE: 2.43033\n",
      "1400 \tMSE: 1.79029\n",
      "1500 \tMSE: 1.72781\n",
      "1600 \tMSE: 5.30996\n",
      "1700 \tMSE: 1.79617\n",
      "1800 \tMSE: 1.8805\n",
      "1900 \tMSE: 1.38517\n",
      "2000 \tMSE: 1.40465\n",
      "2100 \tMSE: 2.30666\n",
      "2200 \tMSE: 1.20538\n",
      "2300 \tMSE: 1.23577\n",
      "2400 \tMSE: 1.09588\n",
      "2500 \tMSE: 2.44423\n",
      "2600 \tMSE: 1.0314\n",
      "2700 \tMSE: 1.11898\n",
      "2800 \tMSE: 0.887401\n",
      "2900 \tMSE: 1.05396\n",
      "3000 \tMSE: 0.764037\n",
      "3100 \tMSE: 6.89383\n",
      "3200 \tMSE: 3.06152\n",
      "3300 \tMSE: 2.16557\n",
      "3400 \tMSE: 1.60913\n",
      "3500 \tMSE: 1.23409\n",
      "3600 \tMSE: 0.987386\n",
      "3700 \tMSE: 0.823753\n",
      "3800 \tMSE: 0.730782\n",
      "3900 \tMSE: 0.579324\n",
      "4000 \tMSE: 0.554329\n",
      "4100 \tMSE: 0.529518\n",
      "4200 \tMSE: 0.442478\n",
      "4300 \tMSE: 0.409039\n",
      "4400 \tMSE: 0.400824\n",
      "4500 \tMSE: 0.356394\n",
      "4600 \tMSE: 0.336441\n",
      "4700 \tMSE: 0.333451\n",
      "4800 \tMSE: 0.338818\n",
      "4900 \tMSE: 0.289973\n",
      "[[[  1.14109322e-01]\n",
      "  [  8.96275520e-01]\n",
      "  [  1.44897664e+00]\n",
      "  [  1.71158433e+00]\n",
      "  [  8.17218900e-01]\n",
      "  [  4.63512719e-01]\n",
      "  [  4.06914055e-01]\n",
      "  [  3.83169711e-01]\n",
      "  [ -1.78191066e-03]\n",
      "  [ -2.27944076e-01]\n",
      "  [ -2.66260922e-01]\n",
      "  [ -3.08104575e-01]\n",
      "  [ -7.34033406e-01]\n",
      "  [ -1.59167254e+00]\n",
      "  [ -1.36332059e+00]\n",
      "  [ -2.83204794e-01]\n",
      "  [  2.11572841e-01]\n",
      "  [ -1.44630656e-01]\n",
      "  [ -3.21625769e-01]\n",
      "  [ -1.25966817e-01]\n",
      "  [  1.67677164e-01]\n",
      "  [  2.97010779e-01]\n",
      "  [  9.17605013e-02]\n",
      "  [  2.04065964e-01]\n",
      "  [  3.09296072e-01]\n",
      "  [ -1.54311314e-01]\n",
      "  [ -2.58218288e-01]\n",
      "  [ -2.96938002e-01]\n",
      "  [  3.29638183e-01]\n",
      "  [  2.06615418e-01]\n",
      "  [  8.95615816e-02]\n",
      "  [  1.96694016e-01]\n",
      "  [  4.66228902e-01]\n",
      "  [  2.49066785e-01]\n",
      "  [ -7.86686912e-02]\n",
      "  [  1.47808000e-01]\n",
      "  [ -9.73979086e-02]\n",
      "  [  4.98082191e-02]\n",
      "  [ -9.95676816e-02]\n",
      "  [ -1.51628509e-01]\n",
      "  [ -5.86483330e-02]\n",
      "  [  6.85481280e-02]\n",
      "  [  1.73189685e-01]\n",
      "  [  8.73319209e-02]\n",
      "  [  3.09457481e-01]\n",
      "  [  3.61439511e-02]\n",
      "  [ -5.07490635e-02]\n",
      "  [ -1.02746189e-02]\n",
      "  [ -9.97065008e-03]\n",
      "  [  1.43183827e-01]\n",
      "  [ -1.40403286e-02]\n",
      "  [ -1.18962079e-02]\n",
      "  [ -1.32612020e-01]\n",
      "  [ -6.81650639e-02]\n",
      "  [ -3.35853338e-01]\n",
      "  [ -7.27091849e-01]\n",
      "  [ -1.09314263e+00]\n",
      "  [ -1.50020337e+00]\n",
      "  [ -1.36206031e+00]\n",
      "  [ -9.55795109e-01]\n",
      "  [ -3.66434038e-01]\n",
      "  [ -3.55341882e-02]\n",
      "  [  3.54669392e-01]\n",
      "  [  5.32753587e-01]\n",
      "  [  9.06149626e-01]\n",
      "  [  1.34341359e+00]\n",
      "  [  1.64881873e+00]\n",
      "  [  1.80004609e+00]\n",
      "  [  1.26295519e+00]\n",
      "  [  7.97441363e-01]\n",
      "  [  4.01375949e-01]\n",
      "  [  1.29888654e-02]\n",
      "  [ -3.16372693e-01]\n",
      "  [ -6.80960834e-01]\n",
      "  [ -1.07467639e+00]\n",
      "  [ -1.18827653e+00]\n",
      "  [ -9.15092587e-01]\n",
      "  [ -6.22128546e-01]\n",
      "  [ -4.34380233e-01]\n",
      "  [ -2.02867374e-01]\n",
      "  [ -9.41731930e-02]\n",
      "  [  7.78647736e-02]\n",
      "  [  1.33083835e-01]\n",
      "  [  2.93328345e-01]\n",
      "  [  5.99972129e-01]\n",
      "  [  1.03490579e+00]\n",
      "  [  1.46780825e+00]\n",
      "  [  1.56928825e+00]\n",
      "  [  1.20467997e+00]\n",
      "  [  5.39683282e-01]\n",
      "  [  3.09566140e-01]\n",
      "  [ -1.99621171e-02]\n",
      "  [ -4.14832056e-01]\n",
      "  [ -8.69870007e-01]\n",
      "  [ -1.18975425e+00]\n",
      "  [ -1.52580190e+00]\n",
      "  [ -1.71298969e+00]\n",
      "  [ -8.82343411e-01]\n",
      "  [ -7.12333739e-01]\n",
      "  [ -3.75099897e-01]]]\n"
     ]
    }
   ],
   "source": [
    "epochs = 5000     #number of iterations or training cycles, includes both the FeedFoward and Backpropogation\n",
    "errors = []\n",
    "iterations = []\n",
    "with tf.Session() as sess:\n",
    "    init.run()\n",
    "    for ep in range(epochs):\n",
    "        sess.run(training_op, feed_dict={X: x_batches, y: y_batches})\n",
    "        errors.append(loss.eval(feed_dict={X: x_batches, y: y_batches}))\n",
    "        iterations.append(ep)\n",
    "        if ep % 100 == 0:\n",
    "            mse = loss.eval(feed_dict={X: x_batches, y: y_batches})\n",
    "            print(ep, \"\\tMSE:\", mse)  \n",
    "    y_pred = sess.run(outputs, feed_dict={X: X_test})\n",
    "    print(y_pred)\n",
    "    "
   ]
  },
  {
   "cell_type": "code",
   "execution_count": 21,
   "metadata": {},
   "outputs": [
    {
     "name": "stdout",
     "output_type": "stream",
     "text": [
      "[ 0.65130467] [ 0.11410932]\n",
      "[ 1.09132992] [ 0.89627552]\n",
      "[ 1.37144135] [ 1.44897664]\n",
      "[ 1.21651892] [ 1.71158433]\n",
      "[ 0.97162507] [ 0.8172189]\n",
      "[ 0.72589668] [ 0.46351272]\n",
      "[ 0.48853033] [ 0.40691406]\n",
      "[ 0.27832533] [ 0.38316971]\n",
      "[ 0.11489424] [-0.00178191]\n",
      "[-0.02420258] [-0.22794408]\n",
      "[-0.21427559] [-0.26626092]\n",
      "[-0.50669374] [-0.30810457]\n",
      "[-0.85925168] [-0.73403341]\n",
      "[-1.13167657] [-1.59167254]\n",
      "[-0.95782469] [-1.36332059]\n",
      "[-0.61549438] [-0.28320479]\n",
      "[-0.30240578] [ 0.21157284]\n",
      "[-0.05761067] [-0.14463066]\n",
      "[ 0.06338403] [-0.32162577]\n",
      "[ 0.07530041] [-0.12596682]\n",
      "[ 0.06631454] [ 0.16767716]\n",
      "[ 0.0894524] [ 0.29701078]\n",
      "[ 0.12633476] [ 0.0917605]\n",
      "[ 0.13430522] [ 0.20406596]\n",
      "[ 0.09856873] [ 0.30929607]\n",
      "[ 0.03986353] [-0.15431131]\n",
      "[-0.00484348] [-0.25821829]\n",
      "[-0.00530485] [-0.296938]\n",
      "[ 0.03851473] [ 0.32963818]\n",
      "[ 0.10526395] [ 0.20661542]\n",
      "[ 0.19581869] [ 0.08956158]\n",
      "[ 0.35444059] [ 0.19669402]\n",
      "[ 0.38391367] [ 0.4662289]\n",
      "[ 0.24240832] [ 0.24906678]\n",
      "[ 0.09770974] [-0.07866869]\n",
      "[ 0.01087227] [ 0.147808]\n",
      "[-0.01532095] [-0.09739791]\n",
      "[-0.01517639] [ 0.04980822]\n",
      "[-0.01779135] [-0.09956768]\n",
      "[-0.02711376] [-0.15162851]\n",
      "[-0.02167907] [-0.05864833]\n",
      "[ 0.02783662] [ 0.06854813]\n",
      "[ 0.12130583] [ 0.17318968]\n",
      "[ 0.20708524] [ 0.08733192]\n",
      "[ 0.14766094] [ 0.30945748]\n",
      "[ 0.05862946] [ 0.03614395]\n",
      "[ 0.04653323] [-0.05074906]\n",
      "[ 0.03991749] [-0.01027462]\n",
      "[ 0.0202778] [-0.00997065]\n",
      "[ 0.00221897] [ 0.14318383]\n",
      "[ 0.00124234] [-0.01404033]\n",
      "[ 0.0074545] [-0.01189621]\n",
      "[-0.01629526] [-0.13261202]\n",
      "[-0.12572245] [-0.06816506]\n",
      "[-0.36588313] [-0.33585334]\n",
      "[-0.72359457] [-0.72709185]\n",
      "[-1.12660005] [-1.09314263]\n",
      "[-1.4615919] [-1.50020337]\n",
      "[-1.38285285] [-1.36206031]\n",
      "[-0.91067614] [-0.95579511]\n",
      "[-0.43405067] [-0.36643404]\n",
      "[-0.03064884] [-0.03553419]\n",
      "[ 0.27709761] [ 0.35466939]\n",
      "[ 0.58015971] [ 0.53275359]\n",
      "[ 0.95527806] [ 0.90614963]\n",
      "[ 1.3693463] [ 1.34341359]\n",
      "[ 1.70937176] [ 1.64881873]\n",
      "[ 1.64389586] [ 1.80004609]\n",
      "[ 1.25006619] [ 1.26295519]\n",
      "[ 0.81802814] [ 0.79744136]\n",
      "[ 0.40409593] [ 0.40137595]\n",
      "[ 0.03812776] [ 0.01298887]\n",
      "[-0.31645917] [-0.31637269]\n",
      "[-0.71024779] [-0.68096083]\n",
      "[-1.08525045] [-1.07467639]\n",
      "[-1.13675535] [-1.18827653]\n",
      "[-0.89340507] [-0.91509259]\n",
      "[-0.64483472] [-0.62212855]\n",
      "[-0.40788684] [-0.43438023]\n",
      "[-0.20193168] [-0.20286737]\n",
      "[-0.05761479] [-0.09417319]\n",
      "[ 0.02882913] [ 0.07786477]\n",
      "[ 0.12503108] [ 0.13308384]\n",
      "[ 0.31956288] [ 0.29332834]\n",
      "[ 0.64465777] [ 0.59997213]\n",
      "[ 1.04973698] [ 1.03490579]\n",
      "[ 1.44037188] [ 1.46780825]\n",
      "[ 1.5906479] [ 1.56928825]\n",
      "[ 1.20738599] [ 1.20467997]\n",
      "[ 0.72600604] [ 0.53968328]\n",
      "[ 0.27699223] [ 0.30956614]\n",
      "[-0.09186728] [-0.01996212]\n",
      "[-0.42028866] [-0.41483206]\n",
      "[-0.79916594] [-0.86987001]\n",
      "[-1.2227152] [-1.18975425]\n",
      "[-1.56572053] [-1.5258019]\n",
      "[-1.45399075] [-1.71298969]\n",
      "[-1.07415974] [-0.88234341]\n",
      "[-0.68102279] [-0.71233374]\n",
      "[-0.31814455] [-0.3750999]\n"
     ]
    }
   ],
   "source": [
    "for i in range(len(y_pred[0])):\n",
    "    print(Y_test[0][i] , y_pred[0][i])"
   ]
  },
  {
   "cell_type": "code",
   "execution_count": 22,
   "metadata": {},
   "outputs": [
    {
     "data": {
      "image/png": "[encoded data removed]",
      "text/plain": [
       "<matplotlib.figure.Figure at 0x1a20dd5ef0>"
      ]
     },
     "metadata": {},
     "output_type": "display_data"
    }
   ],
   "source": [
    "plt.title(\"Forecast vs Actual\", fontsize=14)\n",
    "plt.plot(pd.Series(np.ravel(Y_test)), \"bo\", markersize=10, label=\"Actual\")\n",
    "#plt.plot(pd.Series(np.ravel(Y_test)), \"w*\", markersize=10)\n",
    "plt.plot(pd.Series(np.ravel(y_pred)), \"r.\", markersize=10, label=\"Forecast\")\n",
    "plt.legend(loc=\"upper left\")\n",
    "plt.xlabel(\"Time Periods\")\n",
    "\n",
    "plt.show()\n",
    "\n"
   ]
  },
  {
   "cell_type": "code",
   "execution_count": 23,
   "metadata": {},
   "outputs": [
    {
     "name": "stdout",
     "output_type": "stream",
     "text": [
      "0.896276\n",
      "0.537195347766\n",
      "100\n",
      "[0.82479885735421021, 0.17873091660864704, 0.056535617569429084, 0.40695249758644347, 0.15891538085358409, 0.36146185976063561, 0.16706490159623735, 0.37669723502933816, 1.0155091389574211, 8.4181721225944077, 0.24260970361966022, 0.39193135693594194, 0.1457294509909573, 0.40647299499562695, 0.42335084896025166, 0.53987427925879139, 1.6996322698932671, 1.5104837776229436, 6.0742396569336385, 2.672856912107068, 1.5285130009544887, 2.3203219634295973, 0.27367180022630683, 0.51941940363727945, 2.1378719806526667, 4.870990104676693, 52.312515634560341, 54.974767971748527, 7.5587561854505019, 0.96283173561152857, 0.54263007557194132, 0.445057866894704, 0.21441077185500015, 0.027467981031326232, 1.8051264163052774, 12.594957531741299, 5.3571735449221132, 4.2819539565130231, 4.5964089273276816, 4.592308004455262, 1.7052968854886312, 1.4625166417764086, 0.42771118969625821, 0.57828031735837893, 1.0957301414730016, 0.38351893693781069, 2.0905982344459582, 1.2573964121394885, 1.4917026438121852, 63.527121249045472, 12.301524049537251, 2.5958423440047595, 7.1380747640804119, 0.45781312562855658, 0.082074809021109002, 0.0048331963505130159, 0.029697693394686933, 0.026417409213273839, 0.015035978506083444, 0.049544470634499793, 0.15578050559248882, 0.15939762014323597, 0.27994388693558858, 0.081712195277340499, 0.051428416898243491, 0.018938021417176785, 0.035424139704469705, 0.094987903422785569, 0.010310650719808804, 0.025166343796214376, 0.0067310288749893674, 0.65933311660153127, 0.00027327175091571595, 0.041234843646573052, 0.0097434240177029473, 0.045323013706180304, 0.024275118232454599, 0.03521239718329764, 0.064952794242754588, 0.0046337023317053515, 0.63453146201285737, 1.7009061365881817, 0.064406023696921569, 0.08209506249118044, 0.069316847122788933, 0.014128482133283772, 0.019048110675930204, 0.013428270505682459, 0.0022412213081291939, 0.25664078444630256, 0.11759864709047234, 0.7827070006285276, 0.012982994293059137, 0.088472320062014567, 0.026957180517797014, 0.025495377064424764, 0.17812970002776218, 0.1785733701256626, 0.045976355127444427, 0.17902349326050634]\n"
     ]
    },
    {
     "data": {
      "image/png": "[encoded data removed]",
      "text/plain": [
       "<matplotlib.figure.Figure at 0x1a20dd52b0>"
      ]
     },
     "metadata": {},
     "output_type": "display_data"
    }
   ],
   "source": [
    "error = []\n",
    "print(y_pred[0][1][0])\n",
    "print(abs(y_pred[0][0][0]-Y_test[0][0][0]))\n",
    "print(len(y_pred[0]))\n",
    "for i in range(len(y_pred[0])):\n",
    "    err = abs((y_pred[0][i][0]-Y_test[0][i][0])/Y_test[0][i][0])\n",
    "    error.append(err)\n",
    "x = np.arange(len(error))\n",
    "print(error)\n",
    "plt.bar(x,error,align='center')\n",
    "plt.xlabel('predicted points')\n",
    "plt.ylabel('mean square error')\n",
    "plt.title('mean square error histogram >>>')\n",
    "plt.show()"
   ]
  },
  {
   "cell_type": "code",
   "execution_count": 24,
   "metadata": {},
   "outputs": [
    {
     "name": "stdout",
     "output_type": "stream",
     "text": [
      "(5000,)\n"
     ]
    },
    {
     "data": {
      "image/png": "[encoded data removed]",
      "text/plain": [
       "<matplotlib.figure.Figure at 0x1a1cc7f710>"
      ]
     },
     "metadata": {},
     "output_type": "display_data"
    }
   ],
   "source": [
    "#!/usr/bin/env python\n",
    "import numpy as np\n",
    "import matplotlib.mlab as mlab\n",
    "import matplotlib.pyplot as plt\n",
    "\n",
    "errors=np.array(errors)\n",
    "iterations=np.array(iterations)\n",
    "print(errors.shape)\n",
    "#print(errors)\n",
    "\n",
    "plt.hist(errors,iterations,label='errors', facecolor='orange')\n",
    "\n",
    "plt.xlabel('iterations')\n",
    "plt.ylabel('mean square error ')\n",
    "plt.title('histogram of errors during training -->>>>>')\n",
    "plt.legend()\n",
    "plt.show()"
   ]
  },
  {
   "cell_type": "code",
   "execution_count": 25,
   "metadata": {},
   "outputs": [
    {
     "name": "stdout",
     "output_type": "stream",
     "text": [
      "(5000,)\n"
     ]
    },
    {
     "data": {
      "image/png": "[encoded data removed]",
      "text/plain": [
       "<matplotlib.figure.Figure at 0x1a209ca208>"
      ]
     },
     "metadata": {},
     "output_type": "display_data"
    }
   ],
   "source": [
    "#!/usr/bin/env python\n",
    "import numpy as np\n",
    "import matplotlib.mlab as mlab\n",
    "import matplotlib.pyplot as plt\n",
    "\n",
    "errors=np.array(errors)\n",
    "iterations=np.array(iterations)\n",
    "print(errors.shape)\n",
    "#print(errors)\n",
    "\n",
    "plt.plot(errors,iterations,label='errors',color='green')\n",
    "\n",
    "plt.xlabel('iterations')\n",
    "plt.ylabel('mean square error ')\n",
    "plt.title('plot of errors during training-->>>>>')\n",
    "plt.legend()\n",
    "plt.show()"
   ]
  },
  {
   "cell_type": "code",
   "execution_count": null,
   "metadata": {
    "collapsed": true
   },
   "outputs": [],
   "source": []
  }
 ],
 "metadata": {
  "anaconda-cloud": {},
  "kernelspec": {
   "display_name": "Python 3",
   "language": "python",
   "name": "python3"
  },
  "language_info": {
   "codemirror_mode": {
    "name": "ipython",
    "version": 3
   },
   "file_extension": ".py",
   "mimetype": "text/x-python",
   "name": "python",
   "nbconvert_exporter": "python",
   "pygments_lexer": "ipython3",
   "version": "3.6.3"
  }
 },
 "nbformat": 4,
 "nbformat_minor": 1
}
